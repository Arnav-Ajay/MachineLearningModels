{
 "cells": [
  {
   "cell_type": "markdown",
   "id": "e16f5157",
   "metadata": {},
   "source": [
    "# Handwritten Digit Recognition - MNIST Dataset\n",
    "## K-Nearest-Neighbour"
   ]
  },
  {
   "cell_type": "code",
   "execution_count": 30,
   "id": "responsible-columbus",
   "metadata": {},
   "outputs": [],
   "source": [
    "import numpy as np\n",
    "import pandas as pd\n",
    "\n",
    "import seaborn as sns\n",
    "import matplotlib.pyplot as plt\n",
    "\n",
    "from sklearn.metrics import accuracy_score, confusion_matrix, precision_recall_fscore_support\n",
    "from sklearn.preprocessing import scale\n",
    "from sklearn.neighbors import KNeighborsClassifier\n",
    "from sklearn.decomposition import PCA, IncrementalPCA\n",
    "\n",
    "from sklearn.pipeline import Pipeline\n",
    "\n",
    "import time"
   ]
  },
  {
   "cell_type": "markdown",
   "id": "a0cdd962",
   "metadata": {},
   "source": [
    "### Loading Dataset"
   ]
  },
  {
   "cell_type": "code",
   "execution_count": 10,
   "id": "nutritional-invention",
   "metadata": {},
   "outputs": [],
   "source": [
    "path_train_data = './archive/mnist_train.csv'\n",
    "path_test_data = './archive/mnist_test.csv'\n",
    "\n",
    "def load_data():\n",
    "    df_train = pd.read_csv(path_train_data)\n",
    "    df_test = pd.read_csv(path_test_data)\n",
    "    \n",
    "    return (df_train, df_test)"
   ]
  },
  {
   "cell_type": "code",
   "execution_count": null,
   "id": "e9ac3ac9",
   "metadata": {},
   "outputs": [],
   "source": [
    "df_train, df_test = load_data()"
   ]
  },
  {
   "cell_type": "markdown",
   "id": "d2c25e8e",
   "metadata": {},
   "source": [
    "### Class Distribution"
   ]
  },
  {
   "cell_type": "code",
   "execution_count": null,
   "id": "47683a93",
   "metadata": {},
   "outputs": [],
   "source": [
    "classes = df_train.groupby('label')['label'].count()\n",
    "plt.pie(classes, labels=classes.index, autopct='%.2f%%')\n",
    "plt.show()"
   ]
  },
  {
   "cell_type": "markdown",
   "id": "dcdee759",
   "metadata": {},
   "source": [
    "## Preprocessing"
   ]
  },
  {
   "cell_type": "code",
   "execution_count": 14,
   "id": "ordered-cameroon",
   "metadata": {},
   "outputs": [],
   "source": [
    "x_train_scale = scale(df_train.loc[ : , df_train.columns != 'label'])\n",
    "x_test_scale = scale(df_test.loc[ : , df_test.columns != 'label'])"
   ]
  },
  {
   "cell_type": "code",
   "execution_count": 18,
   "id": "front-right",
   "metadata": {},
   "outputs": [],
   "source": [
    "y_train = df_train['label']\n",
    "y_test = df_test['label']"
   ]
  },
  {
   "cell_type": "markdown",
   "id": "b16cc2f1",
   "metadata": {},
   "source": [
    "### Dimentionality Reduction using PCA"
   ]
  },
  {
   "cell_type": "code",
   "execution_count": 22,
   "id": "integral-theme",
   "metadata": {},
   "outputs": [],
   "source": [
    "def ipca_analysis(x_train, x_test, n_components, batch_size):\n",
    "    \n",
    "    ipca = IncrementalPCA(n_components=n_components, batch_size=batch_size)\n",
    "\n",
    "    x_train_pca = ipca.fit_transform(x_train)\n",
    "    x_test_pca = ipca.transform(x_test)\n",
    "    \n",
    "    return (x_train_pca, x_test_pca)"
   ]
  },
  {
   "cell_type": "code",
   "execution_count": 23,
   "id": "polished-complex",
   "metadata": {},
   "outputs": [],
   "source": [
    "def pca_analysis(x_train, x_test, n_components):\n",
    "    \n",
    "    pca = PCA(n_components=n_components, whiten=True)\n",
    "    \n",
    "    x_train_pca = pca.fit_transform(x_train)\n",
    "    x_test_pca = pca.transform(x_test)\n",
    "    \n",
    "    return (x_train_pca, x_test_pca)"
   ]
  },
  {
   "cell_type": "code",
   "execution_count": null,
   "id": "e716d9f4",
   "metadata": {},
   "outputs": [],
   "source": [
    "x_train_pca, y_train = x_test_pca(x_train_scale, x_test_scale, 50)"
   ]
  },
  {
   "cell_type": "markdown",
   "id": "ec830d89",
   "metadata": {},
   "source": [
    "## KNN"
   ]
  },
  {
   "cell_type": "code",
   "execution_count": 34,
   "id": "horizontal-studio",
   "metadata": {},
   "outputs": [],
   "source": [
    "knn = KNeighborsClassifier(n_neighbors=11)\n",
    "knn.fit(x_train_pca, y_train)\n",
    "y_predicted = knn.predict(x_test_pca)"
   ]
  },
  {
   "cell_type": "code",
   "execution_count": 29,
   "id": "increased-preview",
   "metadata": {},
   "outputs": [],
   "source": [
    "accuracy = accuracy_score(y_test, y_predicted)\n",
    "print('Model accuracy : ', accuracy)\n",
    "\n",
    "metric_score = precision_recall_fscore_support(y_test, y_predicted, average='macro')\n",
    "metric_name = ['precision', 'recall', 'fscore']\n",
    "\n",
    "for i in range(0, 3):\n",
    "    print('Model ' + metric_name[i] + ' : ' + str(metric_score[i]))"
   ]
  },
  {
   "cell_type": "markdown",
   "id": "db27e361",
   "metadata": {},
   "source": [
    "### Accuracy and Results"
   ]
  },
  {
   "cell_type": "code",
   "execution_count": 28,
   "id": "italic-worse",
   "metadata": {},
   "outputs": [],
   "source": [
    "cmat = confusion_matrix(y_test, y_predicted)\n",
    "    \n",
    "fig, axs = plt.subplots(nrows=1)\n",
    "fig.set_size_inches(15, 9)\n",
    "sns.heatmap(cmat, annot=True)"
   ]
  }
 ],
 "metadata": {
  "kernelspec": {
   "display_name": "Python 3 (ipykernel)",
   "language": "python",
   "name": "python3"
  },
  "language_info": {
   "codemirror_mode": {
    "name": "ipython",
    "version": 3
   },
   "file_extension": ".py",
   "mimetype": "text/x-python",
   "name": "python",
   "nbconvert_exporter": "python",
   "pygments_lexer": "ipython3",
   "version": "3.9.12"
  }
 },
 "nbformat": 4,
 "nbformat_minor": 5
}
